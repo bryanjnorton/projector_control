{
 "cells": [
  {
   "cell_type": "code",
   "execution_count": 2,
   "metadata": {},
   "outputs": [
    {
     "name": "stdout",
     "output_type": "stream",
     "text": [
      "Connecting to arduino on /dev/ttyACM1... done.\n",
      "('put_config', ['Max pulse (ms)', 65535, '(off time)/(on time) =', 255], 1607694986.3913713)\n",
      "('long_state', ['Pulse delta (ms)', 0, 'onset (ms)', 0, 'offset (ms)', 0, 'led_state (0/1)', 0], 1607694986.4021988)\n"
     ]
    }
   ],
   "source": [
    "\n",
    "import os\n",
    "stream = os.popen(' ls -l /dev/serial/by-id | grep Arduino_LLC_Arduino_Leonardo')\n",
    "output = stream.read()\n",
    "device_id=output.split(\" -> ../../\",1)[1] \n",
    "\n",
    "import PyCmdMessenger\n",
    "\n",
    "arduino = PyCmdMessenger.ArduinoBoard(\"/dev/\"+device_id.rstrip('\\n'),baud_rate=9600)\n",
    "\n",
    "commands = [\n",
    "            [\"led_on\",\"\"],\n",
    "            [\"led_on_return\",\"s\"],\n",
    "    \n",
    "            [\"led_off\",\"ii\"],\n",
    "            [\"led_off_return\",\"sL\"],   \n",
    "    \n",
    "            [\"grab_state\",\"\"],\n",
    "            [\"long_state\",\"sLsLsLsi\"],\n",
    "  \n",
    "            [\"grab_config\",\"\"],\n",
    "            [\"put_config\",\"sIsb\"],\n",
    "  \n",
    "            [\"set_config\",\"bI\"],\n",
    "            [\"put_config2\",\"sIsb\"],\n",
    "    \n",
    "            [\"error\",\"s\"]   \n",
    "           ]\n",
    "c = PyCmdMessenger.CmdMessenger(arduino,commands)\n",
    "\n",
    "from gpiozero import LED\n",
    "import time \n",
    "\n",
    "c.send(\"set_config\",5,2000)\n",
    "msg = c.receive()\n",
    "print(msg)\n",
    "\n",
    "c.send(\"grab_config\")\n",
    "msg = c.receive()\n",
    "print(msg)\n",
    "\n",
    "#led = LED(17)\n",
    "c.send(\"grab_state\")\n",
    "msg = c.receive()\n",
    "print(msg)"
   ]
  },
  {
   "cell_type": "code",
   "execution_count": 294,
   "metadata": {},
   "outputs": [
    {
     "name": "stdout",
     "output_type": "stream",
     "text": [
      "('led_on_return', ['1'], 1607680984.4520981)\n",
      "('long_state', ['Pulse delta (ms)', 2000, 'onset (ms)', 181464, 'offset (ms)', 163804, 'led_state (0/1)', 1], 1607680984.462546)\n",
      "('long_state', ['Pulse delta (ms)', 2000, 'onset (ms)', 181464, 'offset (ms)', 163804, 'led_state (0/1)', 1], 1607680984.5682664)\n",
      "('long_state', ['Pulse delta (ms)', 2000, 'onset (ms)', 181464, 'offset (ms)', 163804, 'led_state (0/1)', 1], 1607680984.6760175)\n",
      "('long_state', ['Pulse delta (ms)', 2000, 'onset (ms)', 181464, 'offset (ms)', 163804, 'led_state (0/1)', 1], 1607680984.7823195)\n",
      "('long_state', ['Pulse delta (ms)', 2000, 'onset (ms)', 181464, 'offset (ms)', 163804, 'led_state (0/1)', 1], 1607680984.8915281)\n",
      "('long_state', ['Pulse delta (ms)', 2000, 'onset (ms)', 181464, 'offset (ms)', 163804, 'led_state (0/1)', 1], 1607680985.0000134)\n",
      "('long_state', ['Pulse delta (ms)', 2000, 'onset (ms)', 181464, 'offset (ms)', 163804, 'led_state (0/1)', 1], 1607680985.109239)\n",
      "('long_state', ['Pulse delta (ms)', 2000, 'onset (ms)', 181464, 'offset (ms)', 163804, 'led_state (0/1)', 1], 1607680985.219032)\n",
      "('long_state', ['Pulse delta (ms)', 2000, 'onset (ms)', 181464, 'offset (ms)', 163804, 'led_state (0/1)', 1], 1607680985.3282871)\n",
      "('long_state', ['Pulse delta (ms)', 2000, 'onset (ms)', 181464, 'offset (ms)', 163804, 'led_state (0/1)', 1], 1607680985.436961)\n",
      "('long_state', ['Pulse delta (ms)', 2000, 'onset (ms)', 181464, 'offset (ms)', 163804, 'led_state (0/1)', 1], 1607680985.546161)\n",
      "('long_state', ['Pulse delta (ms)', 2000, 'onset (ms)', 181464, 'offset (ms)', 163804, 'led_state (0/1)', 1], 1607680985.6544037)\n",
      "('long_state', ['Pulse delta (ms)', 2000, 'onset (ms)', 181464, 'offset (ms)', 163804, 'led_state (0/1)', 1], 1607680985.7641857)\n",
      "('long_state', ['Pulse delta (ms)', 2000, 'onset (ms)', 181464, 'offset (ms)', 163804, 'led_state (0/1)', 1], 1607680985.8730593)\n",
      "('long_state', ['Pulse delta (ms)', 2000, 'onset (ms)', 181464, 'offset (ms)', 163804, 'led_state (0/1)', 1], 1607680985.982062)\n",
      "('long_state', ['Pulse delta (ms)', 2000, 'onset (ms)', 181464, 'offset (ms)', 163804, 'led_state (0/1)', 1], 1607680986.0919507)\n",
      "('long_state', ['Pulse delta (ms)', 2000, 'onset (ms)', 181464, 'offset (ms)', 163804, 'led_state (0/1)', 1], 1607680986.2017357)\n",
      "('long_state', ['Pulse delta (ms)', 2000, 'onset (ms)', 181464, 'offset (ms)', 163804, 'led_state (0/1)', 1], 1607680986.3101118)\n",
      "('long_state', ['Pulse delta (ms)', 2000, 'onset (ms)', 181464, 'offset (ms)', 163804, 'led_state (0/1)', 1], 1607680986.4194393)\n",
      "('long_state', ['Pulse delta (ms)', 2000, 'onset (ms)', 181464, 'offset (ms)', 183465, 'led_state (0/1)', 0], 1607680986.5282433)\n",
      "('long_state', ['Pulse delta (ms)', 2000, 'onset (ms)', 181464, 'offset (ms)', 183465, 'led_state (0/1)', 0], 1607680986.6372402)\n",
      "('long_state', ['Pulse delta (ms)', 2000, 'onset (ms)', 181464, 'offset (ms)', 183465, 'led_state (0/1)', 0], 1607680986.746201)\n",
      "('long_state', ['Pulse delta (ms)', 2000, 'onset (ms)', 181464, 'offset (ms)', 183465, 'led_state (0/1)', 0], 1607680986.8556523)\n",
      "('long_state', ['Pulse delta (ms)', 2000, 'onset (ms)', 181464, 'offset (ms)', 183465, 'led_state (0/1)', 0], 1607680986.96444)\n",
      "('long_state', ['Pulse delta (ms)', 2000, 'onset (ms)', 181464, 'offset (ms)', 183465, 'led_state (0/1)', 0], 1607680987.0734146)\n",
      "('long_state', ['Pulse delta (ms)', 2000, 'onset (ms)', 181464, 'offset (ms)', 183465, 'led_state (0/1)', 0], 1607680987.18231)\n",
      "('long_state', ['Pulse delta (ms)', 2000, 'onset (ms)', 181464, 'offset (ms)', 183465, 'led_state (0/1)', 0], 1607680987.2920945)\n",
      "('long_state', ['Pulse delta (ms)', 2000, 'onset (ms)', 181464, 'offset (ms)', 183465, 'led_state (0/1)', 0], 1607680987.4014115)\n",
      "('long_state', ['Pulse delta (ms)', 2000, 'onset (ms)', 181464, 'offset (ms)', 183465, 'led_state (0/1)', 0], 1607680987.5084116)\n",
      "('long_state', ['Pulse delta (ms)', 2000, 'onset (ms)', 181464, 'offset (ms)', 183465, 'led_state (0/1)', 0], 1607680987.6162539)\n",
      "('long_state', ['Pulse delta (ms)', 2000, 'onset (ms)', 181464, 'offset (ms)', 183465, 'led_state (0/1)', 0], 1607680987.7243407)\n",
      "('long_state', ['Pulse delta (ms)', 2000, 'onset (ms)', 181464, 'offset (ms)', 183465, 'led_state (0/1)', 0], 1607680987.8322139)\n",
      "('long_state', ['Pulse delta (ms)', 2000, 'onset (ms)', 181464, 'offset (ms)', 183465, 'led_state (0/1)', 0], 1607680987.9403212)\n",
      "('long_state', ['Pulse delta (ms)', 2000, 'onset (ms)', 181464, 'offset (ms)', 183465, 'led_state (0/1)', 0], 1607680988.0491543)\n",
      "('long_state', ['Pulse delta (ms)', 2000, 'onset (ms)', 181464, 'offset (ms)', 183465, 'led_state (0/1)', 0], 1607680988.1573515)\n",
      "('long_state', ['Pulse delta (ms)', 2000, 'onset (ms)', 181464, 'offset (ms)', 183465, 'led_state (0/1)', 0], 1607680988.2637527)\n",
      "('long_state', ['Pulse delta (ms)', 2000, 'onset (ms)', 181464, 'offset (ms)', 183465, 'led_state (0/1)', 0], 1607680988.373904)\n",
      "('long_state', ['Pulse delta (ms)', 2000, 'onset (ms)', 181464, 'offset (ms)', 183465, 'led_state (0/1)', 0], 1607680988.481507)\n",
      "('long_state', ['Pulse delta (ms)', 2000, 'onset (ms)', 181464, 'offset (ms)', 183465, 'led_state (0/1)', 0], 1607680988.5896854)\n",
      "('long_state', ['Pulse delta (ms)', 2000, 'onset (ms)', 181464, 'offset (ms)', 183465, 'led_state (0/1)', 0], 1607680988.6981711)\n",
      "('long_state', ['Pulse delta (ms)', 2000, 'onset (ms)', 181464, 'offset (ms)', 183465, 'led_state (0/1)', 0], 1607680988.8074284)\n",
      "('long_state', ['Pulse delta (ms)', 2000, 'onset (ms)', 181464, 'offset (ms)', 183465, 'led_state (0/1)', 0], 1607680988.9165127)\n",
      "('long_state', ['Pulse delta (ms)', 2000, 'onset (ms)', 181464, 'offset (ms)', 183465, 'led_state (0/1)', 0], 1607680989.025419)\n",
      "('long_state', ['Pulse delta (ms)', 2000, 'onset (ms)', 181464, 'offset (ms)', 183465, 'led_state (0/1)', 0], 1607680989.1343937)\n",
      "('long_state', ['Pulse delta (ms)', 2000, 'onset (ms)', 181464, 'offset (ms)', 183465, 'led_state (0/1)', 0], 1607680989.2436476)\n",
      "('long_state', ['Pulse delta (ms)', 2000, 'onset (ms)', 181464, 'offset (ms)', 183465, 'led_state (0/1)', 0], 1607680989.3508403)\n",
      "('long_state', ['Pulse delta (ms)', 2000, 'onset (ms)', 181464, 'offset (ms)', 183465, 'led_state (0/1)', 0], 1607680989.4594862)\n",
      "('long_state', ['Pulse delta (ms)', 2000, 'onset (ms)', 181464, 'offset (ms)', 183465, 'led_state (0/1)', 0], 1607680989.5666382)\n",
      "('long_state', ['Pulse delta (ms)', 2000, 'onset (ms)', 181464, 'offset (ms)', 183465, 'led_state (0/1)', 0], 1607680989.673741)\n",
      "('long_state', ['Pulse delta (ms)', 2000, 'onset (ms)', 181464, 'offset (ms)', 183465, 'led_state (0/1)', 0], 1607680989.7820883)\n",
      "('long_state', ['Pulse delta (ms)', 2000, 'onset (ms)', 181464, 'offset (ms)', 183465, 'led_state (0/1)', 0], 1607680989.8904402)\n",
      "('long_state', ['Pulse delta (ms)', 2000, 'onset (ms)', 181464, 'offset (ms)', 183465, 'led_state (0/1)', 0], 1607680989.99872)\n",
      "('long_state', ['Pulse delta (ms)', 2000, 'onset (ms)', 181464, 'offset (ms)', 183465, 'led_state (0/1)', 0], 1607680990.1069195)\n",
      "('long_state', ['Pulse delta (ms)', 2000, 'onset (ms)', 181464, 'offset (ms)', 183465, 'led_state (0/1)', 0], 1607680990.2163157)\n",
      "('long_state', ['Pulse delta (ms)', 2000, 'onset (ms)', 181464, 'offset (ms)', 183465, 'led_state (0/1)', 0], 1607680990.323173)\n"
     ]
    },
    {
     "ename": "KeyboardInterrupt",
     "evalue": "",
     "output_type": "error",
     "traceback": [
      "\u001b[0;31m---------------------------------------------------------------------------\u001b[0m",
      "\u001b[0;31mKeyboardInterrupt\u001b[0m                         Traceback (most recent call last)",
      "\u001b[0;32m<ipython-input-294-f05bf418ca7c>\u001b[0m in \u001b[0;36m<module>\u001b[0;34m\u001b[0m\n\u001b[1;32m      7\u001b[0m   \u001b[0mmsg\u001b[0m \u001b[0;34m=\u001b[0m \u001b[0mc\u001b[0m\u001b[0;34m.\u001b[0m\u001b[0mreceive\u001b[0m\u001b[0;34m(\u001b[0m\u001b[0;34m)\u001b[0m\u001b[0;34m\u001b[0m\u001b[0;34m\u001b[0m\u001b[0m\n\u001b[1;32m      8\u001b[0m   \u001b[0mprint\u001b[0m\u001b[0;34m(\u001b[0m\u001b[0mmsg\u001b[0m\u001b[0;34m)\u001b[0m\u001b[0;34m\u001b[0m\u001b[0;34m\u001b[0m\u001b[0m\n\u001b[0;32m----> 9\u001b[0;31m   \u001b[0mtime\u001b[0m\u001b[0;34m.\u001b[0m\u001b[0msleep\u001b[0m\u001b[0;34m(\u001b[0m\u001b[0;36m.1\u001b[0m\u001b[0;34m)\u001b[0m\u001b[0;34m\u001b[0m\u001b[0;34m\u001b[0m\u001b[0m\n\u001b[0m",
      "\u001b[0;31mKeyboardInterrupt\u001b[0m: "
     ]
    }
   ],
   "source": [
    "c.send(\"led_on\")\n",
    "msg = c.receive()\n",
    "print(msg)\n",
    "\n",
    "c.send(\"grab_state\")\n",
    "msg = c.receive()\n",
    "print(msg)\n",
    "time.sleep(.1)"
   ]
  },
  {
   "cell_type": "code",
   "execution_count": 291,
   "metadata": {},
   "outputs": [
    {
     "name": "stdout",
     "output_type": "stream",
     "text": [
      "('long_state', ['Pulse delta (ms)', 2000, 'onset (ms)', 67977, 'offset (ms)', 69978, 'led_state (0/1)', 0], 1607680884.1328576)\n"
     ]
    }
   ],
   "source": [
    "c.send(\"grab_state\")\n",
    "msg = c.receive()\n",
    "print(msg)"
   ]
  },
  {
   "cell_type": "code",
   "execution_count": 6,
   "metadata": {},
   "outputs": [
    {
     "ename": "SerialException",
     "evalue": "write failed: [Errno 5] Input/output error",
     "output_type": "error",
     "traceback": [
      "\u001b[0;31m---------------------------------------------------------------------------\u001b[0m",
      "\u001b[0;31mOSError\u001b[0m                                   Traceback (most recent call last)",
      "\u001b[0;32m/usr/lib/python3/dist-packages/serial/serialposix.py\u001b[0m in \u001b[0;36mwrite\u001b[0;34m(self, data)\u001b[0m\n\u001b[1;32m    536\u001b[0m             \u001b[0;32mtry\u001b[0m\u001b[0;34m:\u001b[0m\u001b[0;34m\u001b[0m\u001b[0;34m\u001b[0m\u001b[0m\n\u001b[0;32m--> 537\u001b[0;31m                 \u001b[0mn\u001b[0m \u001b[0;34m=\u001b[0m \u001b[0mos\u001b[0m\u001b[0;34m.\u001b[0m\u001b[0mwrite\u001b[0m\u001b[0;34m(\u001b[0m\u001b[0mself\u001b[0m\u001b[0;34m.\u001b[0m\u001b[0mfd\u001b[0m\u001b[0;34m,\u001b[0m \u001b[0md\u001b[0m\u001b[0;34m)\u001b[0m\u001b[0;34m\u001b[0m\u001b[0;34m\u001b[0m\u001b[0m\n\u001b[0m\u001b[1;32m    538\u001b[0m                 \u001b[0;32mif\u001b[0m \u001b[0mtimeout\u001b[0m\u001b[0;34m.\u001b[0m\u001b[0mis_non_blocking\u001b[0m\u001b[0;34m:\u001b[0m\u001b[0;34m\u001b[0m\u001b[0;34m\u001b[0m\u001b[0m\n",
      "\u001b[0;31mOSError\u001b[0m: [Errno 5] Input/output error",
      "\nDuring handling of the above exception, another exception occurred:\n",
      "\u001b[0;31mSerialException\u001b[0m                           Traceback (most recent call last)",
      "\u001b[0;32m<ipython-input-6-fce9402c7138>\u001b[0m in \u001b[0;36m<module>\u001b[0;34m\u001b[0m\n\u001b[1;32m      1\u001b[0m \u001b[0;32mwhile\u001b[0m \u001b[0;32mTrue\u001b[0m\u001b[0;34m:\u001b[0m\u001b[0;34m\u001b[0m\u001b[0;34m\u001b[0m\u001b[0m\n\u001b[0;32m----> 2\u001b[0;31m   \u001b[0mc\u001b[0m\u001b[0;34m.\u001b[0m\u001b[0msend\u001b[0m\u001b[0;34m(\u001b[0m\u001b[0;34m\"led_on\"\u001b[0m\u001b[0;34m)\u001b[0m\u001b[0;34m\u001b[0m\u001b[0;34m\u001b[0m\u001b[0m\n\u001b[0m\u001b[1;32m      3\u001b[0m   \u001b[0mmsg\u001b[0m \u001b[0;34m=\u001b[0m \u001b[0mc\u001b[0m\u001b[0;34m.\u001b[0m\u001b[0mreceive\u001b[0m\u001b[0;34m(\u001b[0m\u001b[0;34m)\u001b[0m\u001b[0;34m\u001b[0m\u001b[0;34m\u001b[0m\u001b[0m\n\u001b[1;32m      4\u001b[0m   \u001b[0mprint\u001b[0m\u001b[0;34m(\u001b[0m\u001b[0mmsg\u001b[0m\u001b[0;34m)\u001b[0m\u001b[0;34m\u001b[0m\u001b[0;34m\u001b[0m\u001b[0m\n\u001b[1;32m      5\u001b[0m \u001b[0;34m\u001b[0m\u001b[0m\n",
      "\u001b[0;32m/usr/local/lib/python3.7/dist-packages/PyCmdMessenger/PyCmdMessenger.py\u001b[0m in \u001b[0;36msend\u001b[0;34m(self, cmd, arg_formats, *args)\u001b[0m\n\u001b[1;32m    171\u001b[0m \u001b[0;34m\u001b[0m\u001b[0m\n\u001b[1;32m    172\u001b[0m         \u001b[0;31m# Send the message.\u001b[0m\u001b[0;34m\u001b[0m\u001b[0;34m\u001b[0m\u001b[0;34m\u001b[0m\u001b[0m\n\u001b[0;32m--> 173\u001b[0;31m         \u001b[0mself\u001b[0m\u001b[0;34m.\u001b[0m\u001b[0mboard\u001b[0m\u001b[0;34m.\u001b[0m\u001b[0mwrite\u001b[0m\u001b[0;34m(\u001b[0m\u001b[0mcompiled_bytes\u001b[0m\u001b[0;34m)\u001b[0m\u001b[0;34m\u001b[0m\u001b[0;34m\u001b[0m\u001b[0m\n\u001b[0m\u001b[1;32m    174\u001b[0m \u001b[0;34m\u001b[0m\u001b[0m\n\u001b[1;32m    175\u001b[0m     \u001b[0;32mdef\u001b[0m \u001b[0mreceive\u001b[0m\u001b[0;34m(\u001b[0m\u001b[0mself\u001b[0m\u001b[0;34m,\u001b[0m\u001b[0marg_formats\u001b[0m\u001b[0;34m=\u001b[0m\u001b[0;32mNone\u001b[0m\u001b[0;34m)\u001b[0m\u001b[0;34m:\u001b[0m\u001b[0;34m\u001b[0m\u001b[0;34m\u001b[0m\u001b[0m\n",
      "\u001b[0;32m/usr/local/lib/python3.7/dist-packages/PyCmdMessenger/arduino.py\u001b[0m in \u001b[0;36mwrite\u001b[0;34m(self, msg)\u001b[0m\n\u001b[1;32m    185\u001b[0m         \"\"\"\n\u001b[1;32m    186\u001b[0m \u001b[0;34m\u001b[0m\u001b[0m\n\u001b[0;32m--> 187\u001b[0;31m         \u001b[0mself\u001b[0m\u001b[0;34m.\u001b[0m\u001b[0mcomm\u001b[0m\u001b[0;34m.\u001b[0m\u001b[0mwrite\u001b[0m\u001b[0;34m(\u001b[0m\u001b[0mmsg\u001b[0m\u001b[0;34m)\u001b[0m\u001b[0;34m\u001b[0m\u001b[0;34m\u001b[0m\u001b[0m\n\u001b[0m\u001b[1;32m    188\u001b[0m \u001b[0;34m\u001b[0m\u001b[0m\n\u001b[1;32m    189\u001b[0m     \u001b[0;32mdef\u001b[0m \u001b[0mclose\u001b[0m\u001b[0;34m(\u001b[0m\u001b[0mself\u001b[0m\u001b[0;34m)\u001b[0m\u001b[0;34m:\u001b[0m\u001b[0;34m\u001b[0m\u001b[0;34m\u001b[0m\u001b[0m\n",
      "\u001b[0;32m/usr/lib/python3/dist-packages/serial/serialposix.py\u001b[0m in \u001b[0;36mwrite\u001b[0;34m(self, data)\u001b[0m\n\u001b[1;32m    569\u001b[0m                 \u001b[0;31m# https://www.python.org/dev/peps/pep-0475.\u001b[0m\u001b[0;34m\u001b[0m\u001b[0;34m\u001b[0m\u001b[0;34m\u001b[0m\u001b[0m\n\u001b[1;32m    570\u001b[0m                 \u001b[0;32mif\u001b[0m \u001b[0me\u001b[0m\u001b[0;34m.\u001b[0m\u001b[0merrno\u001b[0m \u001b[0;32mnot\u001b[0m \u001b[0;32min\u001b[0m \u001b[0;34m(\u001b[0m\u001b[0merrno\u001b[0m\u001b[0;34m.\u001b[0m\u001b[0mEAGAIN\u001b[0m\u001b[0;34m,\u001b[0m \u001b[0merrno\u001b[0m\u001b[0;34m.\u001b[0m\u001b[0mEALREADY\u001b[0m\u001b[0;34m,\u001b[0m \u001b[0merrno\u001b[0m\u001b[0;34m.\u001b[0m\u001b[0mEWOULDBLOCK\u001b[0m\u001b[0;34m,\u001b[0m \u001b[0merrno\u001b[0m\u001b[0;34m.\u001b[0m\u001b[0mEINPROGRESS\u001b[0m\u001b[0;34m,\u001b[0m \u001b[0merrno\u001b[0m\u001b[0;34m.\u001b[0m\u001b[0mEINTR\u001b[0m\u001b[0;34m)\u001b[0m\u001b[0;34m:\u001b[0m\u001b[0;34m\u001b[0m\u001b[0;34m\u001b[0m\u001b[0m\n\u001b[0;32m--> 571\u001b[0;31m                     \u001b[0;32mraise\u001b[0m \u001b[0mSerialException\u001b[0m\u001b[0;34m(\u001b[0m\u001b[0;34m'write failed: {}'\u001b[0m\u001b[0;34m.\u001b[0m\u001b[0mformat\u001b[0m\u001b[0;34m(\u001b[0m\u001b[0me\u001b[0m\u001b[0;34m)\u001b[0m\u001b[0;34m)\u001b[0m\u001b[0;34m\u001b[0m\u001b[0;34m\u001b[0m\u001b[0m\n\u001b[0m\u001b[1;32m    572\u001b[0m             \u001b[0;32mexcept\u001b[0m \u001b[0mselect\u001b[0m\u001b[0;34m.\u001b[0m\u001b[0merror\u001b[0m \u001b[0;32mas\u001b[0m \u001b[0me\u001b[0m\u001b[0;34m:\u001b[0m\u001b[0;34m\u001b[0m\u001b[0;34m\u001b[0m\u001b[0m\n\u001b[1;32m    573\u001b[0m                 \u001b[0;31m# this is for Python 2.x\u001b[0m\u001b[0;34m\u001b[0m\u001b[0;34m\u001b[0m\u001b[0;34m\u001b[0m\u001b[0m\n",
      "\u001b[0;31mSerialException\u001b[0m: write failed: [Errno 5] Input/output error"
     ]
    }
   ],
   "source": [
    "while True:\n",
    "  c.send(\"led_on\")\n",
    "  msg = c.receive()\n",
    "  print(msg)\n",
    "\n",
    "  time.sleep(.01)\n",
    "\n",
    "  c.send(\"led_off\")\n",
    "  msg = c.receive()\n",
    "  print(msg)\n",
    "  time.sleep(1)"
   ]
  },
  {
   "cell_type": "code",
   "execution_count": null,
   "metadata": {},
   "outputs": [],
   "source": []
  },
  {
   "cell_type": "code",
   "execution_count": null,
   "metadata": {},
   "outputs": [],
   "source": []
  },
  {
   "cell_type": "code",
   "execution_count": null,
   "metadata": {},
   "outputs": [],
   "source": []
  },
  {
   "cell_type": "code",
   "execution_count": null,
   "metadata": {},
   "outputs": [],
   "source": []
  },
  {
   "cell_type": "code",
   "execution_count": null,
   "metadata": {},
   "outputs": [],
   "source": []
  },
  {
   "cell_type": "code",
   "execution_count": null,
   "metadata": {},
   "outputs": [],
   "source": []
  }
 ],
 "metadata": {
  "kernelspec": {
   "display_name": "Python 3",
   "language": "python",
   "name": "python3"
  },
  "language_info": {
   "codemirror_mode": {
    "name": "ipython",
    "version": 3
   },
   "file_extension": ".py",
   "mimetype": "text/x-python",
   "name": "python",
   "nbconvert_exporter": "python",
   "pygments_lexer": "ipython3",
   "version": "3.7.3"
  }
 },
 "nbformat": 4,
 "nbformat_minor": 4
}